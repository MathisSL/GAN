{
 "cells": [
  {
   "cell_type": "code",
   "execution_count": 11,
   "metadata": {},
   "outputs": [
    {
     "name": "stdout",
     "output_type": "stream",
     "text": [
      "P = [0.9 0.1]\n",
      "Q = [0.5 0.5]\n",
      "M = [0.7 0.3]\n"
     ]
    },
    {
     "data": {
      "text/plain": [
       "(0.1163217565860046, 0.08717669357238891, 0.10174922507919676)"
      ]
     },
     "execution_count": 11,
     "metadata": {},
     "output_type": "execute_result"
    }
   ],
   "source": [
    "# Calcul de la divergence de Jensen-Shannon entre deux distributions de probabilités\n",
    "import numpy as np\n",
    "\n",
    "# Définition des distributions\n",
    "P = np.array([0.9, 0.1])\n",
    "Q = np.array([0.5, 0.5])\n",
    "M = (P + Q) / 2  # Moyenne des distributions\n",
    "print(f'P = {P}')\n",
    "print(f'Q = {Q}')\n",
    "print(f'M = {M}')\n",
    "# Fonction pour calculer KL(P || Q)\n",
    "def kl_divergence(P, Q):\n",
    "    return np.sum(P * np.log(P / Q))\n",
    "\n",
    "# Calcul des divergences KL\n",
    "kl_P_M = kl_divergence(P, M)\n",
    "kl_Q_M = kl_divergence(Q, M)\n",
    "\n",
    "# Calcul de la divergence de Jensen-Shannon\n",
    "js_divergence = 0.5 * (kl_P_M + kl_Q_M)\n",
    "\n",
    "kl_P_M, kl_Q_M, js_divergence"
   ]
  },
  {
   "cell_type": "code",
   "execution_count": 12,
   "metadata": {},
   "outputs": [
    {
     "name": "stdout",
     "output_type": "stream",
     "text": [
      "Nombre de GPU disponibles : 1\n",
      "Nombre de coeurs disponibles : 12\n",
      "Utilisation du device : cuda\n"
     ]
    }
   ],
   "source": [
    "# Création d'un GAN\n",
    "\n",
    "# Importation des modules\n",
    "import os\n",
    "\n",
    "import torch\n",
    "import torchvision\n",
    "import torch.nn as nn\n",
    "import torch.optim as optim\n",
    "import torch.nn.functional as F\n",
    "import torchvision.datasets as datasets\n",
    "import torchvision.transforms as transforms\n",
    "from torch.utils.data import DataLoader, random_split\n",
    "from torchvision.datasets import MNIST\n",
    "\n",
    "import matplotlib.pyplot as plt\n",
    "\n",
    "import pytorch_lightning as pl\n",
    "\n",
    "\n",
    "random_seed = 42\n",
    "torch.manual_seed(random_seed) # Pour reproductibilité\n",
    "\n",
    "BATCH_SIZE=128\n",
    "AVAIL_GPUS = min(1, torch.cuda.device_count()) # Nombre de GPU disponibles\n",
    "print(f'Nombre de GPU disponibles : {AVAIL_GPUS}')\n",
    "NUM_WORKERS=int(os.cpu_count() / 2) # Nombre de coeurs disponibles\n",
    "print(f'Nombre de coeurs disponibles : {NUM_WORKERS}')\n",
    "\n",
    "device = torch.device('cuda' if torch.cuda.is_available() else 'cpu')\n",
    "print(f'Utilisation du device : {device}')"
   ]
  },
  {
   "cell_type": "code",
   "execution_count": 13,
   "metadata": {},
   "outputs": [],
   "source": [
    "# Création du dataset MNIST\n",
    "class MNISTDataModule(pl.LightningDataModule):\n",
    "    def __init__(self, data_dir=\"./data\", \n",
    "                 batch_size=BATCH_SIZE, num_workers=NUM_WORKERS):\n",
    "        super().__init__()\n",
    "        # On définit les paramètres du dataset\n",
    "        self.data_dir = data_dir\n",
    "        self.batch_size = batch_size\n",
    "        self.num_workers = num_workers\n",
    "        # On définit la transformation à appliquer aux images\n",
    "        self.transform = transforms.Compose(\n",
    "            [\n",
    "                transforms.ToTensor(), # Conversion en tenseur\n",
    "                transforms.Normalize((0.1307,), (0.3081,)), # Normalisation des données avec la moyenne et l'écart-type\n",
    "            ]\n",
    "        )\n",
    "    # On télécharge les données et on les prépare\n",
    "    def prepare_data(self):\n",
    "        MNIST(self.data_dir, train=True, download=True) # Téléchargement des données d'entrainement\n",
    "        MNIST(self.data_dir, train=False, download=True) # Pas d'entrainement sur les données de test\n",
    "\n",
    "    def setup(self, stage=None):\n",
    "        # split train/val datasets\n",
    "        if stage == \"fit\" or stage is None:\n",
    "            mnist_full = MNIST(self.data_dir, train=True, transform=self.transform)\n",
    "            self.mnist_train, self.mnist_val = random_split(mnist_full, [55000, 5000])\n",
    "\n",
    "        # Assign test dataset\n",
    "        if stage == \"test\" or stage is None:\n",
    "            self.mnist_test = MNIST(self.data_dir, train=False, transform=self.transform)\n",
    "\n",
    "    def train_dataloader(self):\n",
    "        return DataLoader(self.mnist_train, batch_size=self.batch_size, num_workers=self.num_workers, persistent_workers=True)\n",
    "\n",
    "    def val_dataloader(self):\n",
    "        return DataLoader(self.mnist_val, batch_size=self.batch_size, num_workers=self.num_workers)\n",
    "\n",
    "    def test_dataloader(self):\n",
    "        return DataLoader(self.mnist_test, batch_size=self.batch_size, num_workers=self.num_workers)"
   ]
  },
  {
   "cell_type": "code",
   "execution_count": 14,
   "metadata": {},
   "outputs": [],
   "source": [
    "# Le dicriminateur qui est un simple classifieur binaire\n",
    "# Définir la précision de multiplication de matrices pour utiliser les Tensor Cores\n",
    "torch.set_float32_matmul_precision('high')  \n",
    "class Discriminator(nn.Module):\n",
    "    def __init__(self):\n",
    "        super().__init__()\n",
    "        # Simple CNN\n",
    "        self.conv1 = nn.Conv2d(1, 10, kernel_size=5) \n",
    "        self.conv2 = nn.Conv2d(10, 20, kernel_size=5) \n",
    "        self.conv2_drop = nn.Dropout2d()\n",
    "        self.fc1 = nn.Linear(320, 50)\n",
    "        self.fc2 = nn.Linear(50, 1)\n",
    "  \n",
    "    def forward(self, x):\n",
    "        x = F.relu(F.max_pool2d(self.conv1(x), 2))\n",
    "        x = F.relu(F.max_pool2d(self.conv2_drop(self.conv2(x)), 2))\n",
    "        # Flatten the tensor so it can be fed into the FC layers\n",
    "        x = x.view(-1, 320)\n",
    "        x = F.relu(self.fc1(x))\n",
    "        x = F.dropout(x, training=self.training)\n",
    "        x = self.fc2(x)\n",
    "        return torch.sigmoid(x)"
   ]
  },
  {
   "cell_type": "code",
   "execution_count": 15,
   "metadata": {},
   "outputs": [],
   "source": [
    "# Generateur qui génere les Fake Data: output de la même dimension que les vraies data [1, 28, 28] and values -1, 1\n",
    "class Generator(nn.Module):\n",
    "    def __init__(self, latent_dim):\n",
    "        super().__init__()\n",
    "        self.lin1 = nn.Linear(latent_dim, 7*7*64)  # [n, 256, 7, 7]\n",
    "        self.ct1 = nn.ConvTranspose2d(64, 32, 4, stride=2) # [n, 64, 16, 16]\n",
    "        self.ct2 = nn.ConvTranspose2d(32, 16, 4, stride=2) # [n, 16, 34, 34]\n",
    "        self.conv = nn.Conv2d(16, 1, kernel_size=7)  # [n, 1, 28, 28]\n",
    "    \n",
    "\n",
    "    def forward(self, x):\n",
    "        # Pass latent space input into linear layer and reshape\n",
    "        x = self.lin1(x)\n",
    "        x = F.relu(x)\n",
    "        x = x.view(-1, 64, 7, 7)  #256\n",
    "        \n",
    "        # Upsample (transposed conv) 16x16 (64 feature maps)\n",
    "        x = self.ct1(x)\n",
    "        x = F.relu(x)\n",
    "        \n",
    "        # Upsample to 34x34 (16 feature maps)\n",
    "        x = self.ct2(x)\n",
    "        x = F.relu(x)\n",
    "        \n",
    "        # Convolution to 28x28 (1 feature map)\n",
    "        return self.conv(x)"
   ]
  },
  {
   "cell_type": "code",
   "execution_count": 16,
   "metadata": {},
   "outputs": [],
   "source": [
    "# Mettre les réseaux dans une classe\n",
    "class GAN(pl.LightningModule):\n",
    "    def __init__(self, latent_dim=100, lr=0.0002):\n",
    "        super().__init__()\n",
    "        self.save_hyperparameters() # Sauvegarde des hyperparamètres pour qu'ils soient accessibles dans le modèle\n",
    "        self.generator = Generator(latent_dim=self.hparams.latent_dim) # Initialisation du générateur avec la dimension latente sauvée juste avant\n",
    "        self.discriminator = Discriminator() # Initialisation du discriminateur\n",
    "        self.automatic_optimization = False  # Désactiver l'optimisation automatique pour pouvoir utiliser plusieurs optimiseurs\n",
    "        # Random noise\n",
    "        self.validation_z = torch.randn(8, self.hparams.latent_dim, device=self.device)\n",
    "\n",
    "    def forward(self, z):\n",
    "        return self.generator(z)\n",
    "\n",
    "    def adversarial_loss(self, y_hat, y):\n",
    "        return F.binary_cross_entropy(y_hat, y)\n",
    "\n",
    "    def training_step(self, batch, batch_idx):\n",
    "        opt_g, opt_d = self.optimizers()  # Récupération des optimiseurs\n",
    "        real_imgs, _ = batch\n",
    "\n",
    "        # Sample noise\n",
    "        z = torch.randn(real_imgs.shape[0], self.hparams.latent_dim, device=self.device)\n",
    "        z = z.type_as(real_imgs)\n",
    "\n",
    "        # -----------------------------\n",
    "        # 1. Train Generator (maximize log(D(G(z))))\n",
    "        # -----------------------------\n",
    "        opt_g.zero_grad()  # Reset des gradients\n",
    "        gen_imgs = self.generator(z)\n",
    "        y_hat = self.discriminator(gen_imgs)\n",
    "        y = torch.ones(real_imgs.size(0), 1, device=self.device)  # Labels \"réels\"\n",
    "        g_loss = self.adversarial_loss(y_hat, y)\n",
    "        \n",
    "        self.manual_backward(g_loss)  # Rétropropagation manuelle\n",
    "        opt_g.step()  # Mise à jour des poids\n",
    "\n",
    "        self.log(\"g_loss\", g_loss, prog_bar=True)\n",
    "\n",
    "        # -----------------------------\n",
    "        # 2. Train Discriminator (maximize log(D(x)) + log(1 - D(G(z))))\n",
    "        # -----------------------------\n",
    "        opt_d.zero_grad()  # Reset des gradients\n",
    "\n",
    "        # Vraies images\n",
    "        y_hat_real = self.discriminator(real_imgs)\n",
    "        y_real = torch.ones(real_imgs.size(0), 1, device=self.device)\n",
    "        real_loss = self.adversarial_loss(y_hat_real, y_real)\n",
    "\n",
    "        # Fausses images\n",
    "        y_hat_fake = self.discriminator(gen_imgs.detach())  # .detach() pour ne pas backprop sur G\n",
    "        y_fake = torch.zeros(real_imgs.size(0), 1, device=self.device)\n",
    "        fake_loss = self.adversarial_loss(y_hat_fake, y_fake)\n",
    "\n",
    "        d_loss = (real_loss + fake_loss) / 2\n",
    "\n",
    "        self.manual_backward(d_loss)  # Rétropropagation manuelle\n",
    "        opt_d.step()  # Mise à jour des poids\n",
    "\n",
    "        self.log(\"d_loss\", d_loss, prog_bar=True)\n",
    "\n",
    "        return g_loss + d_loss  # Retourner une perte combinée\n",
    "        \n",
    "    def configure_optimizers(self):\n",
    "        lr = self.hparams.lr\n",
    "        opt_g = torch.optim.Adam(self.generator.parameters(), lr=lr)\n",
    "        opt_d = torch.optim.Adam(self.discriminator.parameters(), lr=lr)\n",
    "        return [opt_g, opt_d], []\n",
    "    \n",
    "    def plot_images(self):\n",
    "        z = self.validation_z.type_as(self.generator.lin1.weight) # On utilise les données générées pour le plot\n",
    "        sample_imgs = self(z).cpu() # génération des images et passage en CPU\n",
    "\n",
    "        # Plot et print après chaque epoch\n",
    "        print('epoch ', self.current_epoch)\n",
    "        fig = plt.figure()\n",
    "        for i in range(len(sample_imgs)):\n",
    "            plt.subplot(2, 4, i+1)\n",
    "            plt.tight_layout()\n",
    "            plt.imshow(sample_imgs.detach()[i,0,:,:], cmap='gray', interpolation='none')\n",
    "            plt.title(f'Images générées')\n",
    "            plt.xticks([])\n",
    "            plt.yticks([])\n",
    "            plt.axis('off')\n",
    "        plt.show()\n",
    "\n",
    "    def on_epoch_end(self):\n",
    "        self.plot_images()\n"
   ]
  },
  {
   "cell_type": "code",
   "execution_count": 17,
   "metadata": {},
   "outputs": [
    {
     "name": "stdout",
     "output_type": "stream",
     "text": [
      "GAN(\n",
      "  (generator): Generator(\n",
      "    (lin1): Linear(in_features=100, out_features=3136, bias=True)\n",
      "    (ct1): ConvTranspose2d(64, 32, kernel_size=(4, 4), stride=(2, 2))\n",
      "    (ct2): ConvTranspose2d(32, 16, kernel_size=(4, 4), stride=(2, 2))\n",
      "    (conv): Conv2d(16, 1, kernel_size=(7, 7), stride=(1, 1))\n",
      "  )\n",
      "  (discriminator): Discriminator(\n",
      "    (conv1): Conv2d(1, 10, kernel_size=(5, 5), stride=(1, 1))\n",
      "    (conv2): Conv2d(10, 20, kernel_size=(5, 5), stride=(1, 1))\n",
      "    (conv2_drop): Dropout2d(p=0.5, inplace=False)\n",
      "    (fc1): Linear(in_features=320, out_features=50, bias=True)\n",
      "    (fc2): Linear(in_features=50, out_features=1, bias=True)\n",
      "  )\n",
      ")\n"
     ]
    }
   ],
   "source": [
    "dm = MNISTDataModule()\n",
    "model = GAN()\n",
    "print(model)"
   ]
  },
  {
   "cell_type": "code",
   "execution_count": 18,
   "metadata": {},
   "outputs": [
    {
     "name": "stdout",
     "output_type": "stream",
     "text": [
      "epoch  0\n"
     ]
    },
    {
     "data": {
      "image/png": "[encoded data removed]",
      "text/plain": [
       "<Figure size 640x480 with 8 Axes>"
      ]
     },
     "metadata": {},
     "output_type": "display_data"
    }
   ],
   "source": [
    "model.plot_images()"
   ]
  },
  {
   "cell_type": "code",
   "execution_count": 19,
   "metadata": {},
   "outputs": [
    {
     "name": "stderr",
     "output_type": "stream",
     "text": [
      "GPU available: True (cuda), used: True\n",
      "TPU available: False, using: 0 TPU cores\n",
      "HPU available: False, using: 0 HPUs\n",
      "c:\\Users\\mathi\\anaconda3\\envs\\TorchGPU\\Lib\\site-packages\\pytorch_lightning\\trainer\\configuration_validator.py:68: You passed in a `val_dataloader` but have no `validation_step`. Skipping val loop.\n",
      "LOCAL_RANK: 0 - CUDA_VISIBLE_DEVICES: [0]\n",
      "\n",
      "  | Name          | Type          | Params | Mode \n",
      "--------------------------------------------------------\n",
      "0 | generator     | Generator     | 358 K  | train\n",
      "1 | discriminator | Discriminator | 21.4 K | train\n",
      "--------------------------------------------------------\n",
      "379 K     Trainable params\n",
      "0         Non-trainable params\n",
      "379 K     Total params\n",
      "1.520     Total estimated model params size (MB)\n",
      "11        Modules in train mode\n",
      "0         Modules in eval mode\n"
     ]
    },
    {
     "name": "stdout",
     "output_type": "stream",
     "text": [
      "Epoch 19: 100%|██████████| 430/430 [00:03<00:00, 115.17it/s, v_num=5, g_loss=2.140, d_loss=0.343]"
     ]
    },
    {
     "name": "stderr",
     "output_type": "stream",
     "text": [
      "`Trainer.fit` stopped: `max_epochs=20` reached.\n"
     ]
    },
    {
     "name": "stdout",
     "output_type": "stream",
     "text": [
      "Epoch 19: 100%|██████████| 430/430 [00:03<00:00, 114.73it/s, v_num=5, g_loss=2.140, d_loss=0.343]\n"
     ]
    }
   ],
   "source": [
    "trainer = pl.Trainer(max_epochs=20, devices=AVAIL_GPUS, accelerator='gpu')\n",
    "trainer.fit(model, dm)"
   ]
  },
  {
   "cell_type": "code",
   "execution_count": 20,
   "metadata": {},
   "outputs": [
    {
     "name": "stdout",
     "output_type": "stream",
     "text": [
      "epoch  20\n"
     ]
    },
    {
     "data": {
      "image/png": "[encoded data removed]",
      "text/plain": [
       "<Figure size 640x480 with 8 Axes>"
      ]
     },
     "metadata": {},
     "output_type": "display_data"
    }
   ],
   "source": [
    "# Image générée après entrainement\n",
    "model.plot_images()"
   ]
  }
 ],
 "metadata": {
  "kernelspec": {
   "display_name": "TorchGPU",
   "language": "python",
   "name": "python3"
  },
  "language_info": {
   "codemirror_mode": {
    "name": "ipython",
    "version": 3
   },
   "file_extension": ".py",
   "mimetype": "text/x-python",
   "name": "python",
   "nbconvert_exporter": "python",
   "pygments_lexer": "ipython3",
   "version": "3.11.10"
  }
 },
 "nbformat": 4,
 "nbformat_minor": 2
}
